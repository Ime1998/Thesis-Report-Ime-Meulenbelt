{
 "cells": [
  {
   "cell_type": "markdown",
   "id": "a71c20a2",
   "metadata": {},
   "source": [
    "# Before using code: Under: 'Kernel' select: Restart & Run All!\n",
    "## After this, you do not need to 'Run' any cells anymore, only widgets\n",
    "This defines all classes and removes old data from cache (last isn't strictly necessary, but makes it cleaner)\n",
    "\n",
    "\n"
   ]
  },
  {
   "cell_type": "markdown",
   "id": "515d6909",
   "metadata": {},
   "source": [
    "Introduction\n",
    "\n",
    "Welcome to the \"Baseline Program\" guide. This document is a culmination of rigorous research and development, designed as a part of a thesis project in Applied Physics at TU Delft. The program aims to provide a comprehensive understanding of various isotopes and their corresponding activities, ensuring accurate measurements and analysis.\n",
    "\n",
    "The program is structured to guide users through a series of steps, starting with the foundational aspects such as importing necessary packages and defining the baseline. It then delves deeper into the intricacies of sample-analysis time, reactor week definitions, and the measurement of isotopes. With easy-to-follow instructions and interactive widgets, users can seamlessly navigate through the program, ensuring accurate and efficient data analysis.\n",
    "\n",
    "\n"
   ]
  },
  {
   "cell_type": "markdown",
   "id": "755d9c29",
   "metadata": {},
   "source": [
    "# First, we import necessary packages"
   ]
  },
  {
   "cell_type": "code",
   "execution_count": 1,
   "id": "81c1fade",
   "metadata": {},
   "outputs": [],
   "source": [
    "from IPython.display import display\n",
    "import ipywidgets as widgets\n",
    "from ipywidgets import Layout\n",
    "\n",
    "from datetime import datetime\n",
    "\n",
    "import pandas as pd\n",
    "import numpy as np"
   ]
  },
  {
   "cell_type": "markdown",
   "id": "1ffda543",
   "metadata": {},
   "source": [
    "# Define the baseline\n",
    "The baseline is calculated in a different code 'Final - Baseline Calculation' which should be available to you. It is not calculated in this notebook as that would require importing external data which complicates stuff."
   ]
  },
  {
   "cell_type": "code",
   "execution_count": 17,
   "id": "2b6260ad",
   "metadata": {},
   "outputs": [],
   "source": [
    "\n",
    "# Convert the string back into a dictionary\n",
    "nan = 0\n",
    "dict_baseline_df = {'Week': {0: 0.0, 1: 1.0, 2: 2.0, 3: 3.0, 4: 4.0, 5: 5.0}, 'LowerLimit_Volatile': {0: 0.056866085491649204, 1: 0.2482551052266771, 2: 0.30929177303410893, 3: 0.3451817056092236, 4: 0.2431570033724747, 5: 0.28309186085781834}, 'Mean_Volatile': {0: 0.17408801482602576, 1: 0.3657179544217891, 2: 0.4391651882236531, 3: 0.4638652990972343, 4: 0.41998208320410374, 5: 0.28309186085781846}, 'UpperLimit_Volatile': {0: 0.32711088815728284, 1: 0.5008636969306829, 2: 0.5715585564876182, 3: 0.6402376220627636, 4: 0.5691313995353323, 5: 0.28309186085781834}, 'LowerLimit_Contaminant': {0: 0.0010734616427216048, 1: 0.0, 2: 0.0, 3: 0.0, 4: 0.0, 5: 0.0}, 'UpperLimit_Contaminant': {0: 0.12901277980285636, 1: 0.3316264258163699, 2: 0.34520884520884515, 3: 0.09954291518537328, 4: 0.0, 5: 0.0}, 'Mean_Contaminant': {0: 0.04545147877541717, 1: 0.11335357105404033, 2: 0.08635399262899263, 3: 0.02520675469781615, 4: 0.0, 5: 0.0}, 'LowerLimit_Structural': {0: 0.018986063238625183, 1: 0.32971647519451697, 2: 0.425523512485218, 3: 0.3940597415813968, 4: 0.339881565108432, 5: 0.3033006001955055}, 'UpperLimit_Structural': {0: 0.23612564573745923, 1: 0.5355148572425968, 2: 0.533205926933585, 3: 0.5719533435403958, 4: 0.558689127026173, 5: 0.3033006001955055}, 'Mean_Structural': {0: 0.11106981001154763, 1: 0.43408350379730953, 2: 0.4741716957745598, 3: 0.4856612578412547, 4: 0.4386040161790017, 5: 0.30330060019550553}, 'LowerLimit_pH_Eh_related': {0: 0.031001557040175265, 1: 0.0, 2: 0.0, 3: 0.0, 4: 0.0, 5: 0.0}, 'UpperLimit_pH_Eh_related': {0: 0.4341656844639973, 1: 0.0, 2: 0.0, 3: 0.0, 4: 0.0, 5: 0.0}, 'Mean_pH_Eh_related': {0: 0.2022777874187533, 1: 0.0, 2: 0.0, 3: 0.0, 4: 0.0, 5: 0.0}, 'LowerLimit_Unknown/False_positives': {0: 0.023226548544981424, 1: 0.3705370742576565, 2: 0.518059454997629, 3: 0.3449942611070806, 4: 0.1688097902097902, 5: 0.2111888111888112}, 'UpperLimit_Unknown/False_positives': {0: 0.3018529792740829, 1: 0.7294736783269403, 2: 0.7666716754294041, 3: 0.7038039859520998, 4: 0.48120213059298406, 5: 0.2111888111888112}, 'Mean_Unknown/False_positives': {0: 0.12386466559387525, 1: 0.5378270168234305, 2: 0.6451566662359056, 3: 0.5070486651264478, 4: 0.3166241903604526, 5: 0.21118881118881117}, 'LowerLimit_Xe133_Xe135': {0: 0.115135531441001, 1: 0.16985714673818514, 2: 0.3739342446952418, 3: 0.7672579742513376, 4: 0.6358738290289532, 5: 0.0}, 'UpperLimit_Xe133_Xe135': {0: 1.900417357002361, 1: 0.4315182639115695, 2: 0.7017374633631492, 3: 0.9366820028096386, 4: 1.0213209719644607, 5: 0.0}, 'Mean_Xe133_Xe135': {0: 0.8081108825860903, 1: 0.2960990621749774, 2: 0.5520148691498467, 3: 0.86061394064327, 4: 0.8598499471201619, 5: 0.0}}\n",
    "baseline_df = pd.DataFrame(dict_baseline_df)\n",
    "baseline_df.columns\n",
    "baseline_df.reset_index(inplace=True, drop=True)\n"
   ]
  },
  {
   "cell_type": "markdown",
   "id": "d20c20c5",
   "metadata": {},
   "source": [
    "# Define Sample-Analysis time\n",
    "\n",
    "In the code below, the sample-analysis time is defined. The reason this is done is because if the half life of an isotope is <1/15 the sample-analysis time, the isotope is automatically discarded. Due to this, it is sometimes possible that for example Ar-41 isn't measured in a week, while it should definitely be there. This would change the balance of the baseline. "
   ]
  },
  {
   "cell_type": "markdown",
   "id": "cda49449",
   "metadata": {},
   "source": [
    "## Do not run the cell below after filling in values!"
   ]
  },
  {
   "cell_type": "code",
   "execution_count": 3,
   "id": "267ef923",
   "metadata": {
    "scrolled": true
   },
   "outputs": [
    {
     "data": {
      "application/vnd.jupyter.widget-view+json": {
       "model_id": "7a7cbdbed2e944a4991fd1d8432092b7",
       "version_major": 2,
       "version_minor": 0
      },
      "text/plain": [
       "Label(value='Sample Time & Date:')"
      ]
     },
     "metadata": {},
     "output_type": "display_data"
    },
    {
     "data": {
      "application/vnd.jupyter.widget-view+json": {
       "model_id": "77851cec790f4bc39c3adb9963cd2a49",
       "version_major": 2,
       "version_minor": 0
      },
      "text/plain": [
       "Text(value='', placeholder='dd/mm/yyyy hh:mm:ss')"
      ]
     },
     "metadata": {},
     "output_type": "display_data"
    },
    {
     "data": {
      "application/vnd.jupyter.widget-view+json": {
       "model_id": "10631b44ea644cd1a366a3f165e90f3d",
       "version_major": 2,
       "version_minor": 0
      },
      "text/plain": [
       "Label(value='Analysis Time & Date:')"
      ]
     },
     "metadata": {},
     "output_type": "display_data"
    },
    {
     "data": {
      "application/vnd.jupyter.widget-view+json": {
       "model_id": "4b340afb16fb4687ac7d022f5efe0630",
       "version_major": 2,
       "version_minor": 0
      },
      "text/plain": [
       "Text(value='', placeholder='dd/mm/yyyy hh:mm:ss')"
      ]
     },
     "metadata": {},
     "output_type": "display_data"
    }
   ],
   "source": [
    "# Create label and text widgets for date and time inputs\n",
    "sample_label = widgets.Label(value='Sample Time & Date:')\n",
    "sample_time_date_input = widgets.Text(\n",
    "    value='',\n",
    "    placeholder='dd/mm/yyyy hh:mm:ss',\n",
    "    disabled=False\n",
    ")\n",
    "analysis_label = widgets.Label(value='Analysis Time & Date:')\n",
    "analysis_time_date_input = widgets.Text(\n",
    "    value='',\n",
    "    placeholder='dd/mm/yyyy hh:mm:ss',\n",
    "    disabled=False\n",
    ")\n",
    "\n",
    "# Display the widgets\n",
    "display(sample_label)\n",
    "display(sample_time_date_input)\n",
    "display(analysis_label)\n",
    "display(analysis_time_date_input)\n",
    "\n",
    "\n",
    "\n",
    "# 23/04/2021 12:34:57"
   ]
  },
  {
   "cell_type": "markdown",
   "id": "2f23d517",
   "metadata": {},
   "source": [
    "# Setting the Reactor Week\n",
    "\n",
    "In the operations of the HFR, knowing the specific week within the reactor's operational cycle is important. This granularity is not just a procedural detail but a necessity rooted in the reactor's operational dynamics. The HFR operates on a yearly plan comprising 11 cycles of 28 days, with specific periods dedicated to full power operation and core reloading procedures. Given this structure, the baseline for isotopic activity is defined distinctly for each week in the reactor period, ensuring that measurements are contextually accurate.\n",
    "\n",
    "The significance of this week-specific baseline stems from the variations in reactor operations and the unique isotopic behaviours during different periods. For instance, certain isotopes, like those in the 'pH/Eh related' group, are predominantly measured during reactor downtime. If we were to generalise the baseline across all weeks, we'd inadvertently introduce substantial errors. Such isotopes might exceed their expected activity if measured during downtime, as opposed to their activity during regular operations.\n",
    "\n",
    "By defining the baseline on a weekly basis, we ensure that the isotopic measurements are always contextualised against the right operational backdrop. This approach enhances the accuracy of our measurements."
   ]
  },
  {
   "cell_type": "code",
   "execution_count": 4,
   "id": "f8ab7edc",
   "metadata": {},
   "outputs": [
    {
     "data": {
      "application/vnd.jupyter.widget-view+json": {
       "model_id": "34d093935dd5442db31f680dd227726a",
       "version_major": 2,
       "version_minor": 0
      },
      "text/plain": [
       "Label(value='Reactor Period')"
      ]
     },
     "metadata": {},
     "output_type": "display_data"
    },
    {
     "data": {
      "application/vnd.jupyter.widget-view+json": {
       "model_id": "5637472e595c4c79a67447f08444323e",
       "version_major": 2,
       "version_minor": 0
      },
      "text/plain": [
       "Dropdown(options=('Downtime', 'Between day 1-7', 'Between day 8-14', 'Between day 15-21', 'Between day 22-28',…"
      ]
     },
     "metadata": {},
     "output_type": "display_data"
    }
   ],
   "source": [
    "# Create a dropdown menu for the reactor period\n",
    "options = [\n",
    "    'Downtime',\n",
    "    'Between day 1-7',\n",
    "    'Between day 8-14',\n",
    "    'Between day 15-21',\n",
    "    'Between day 22-28',\n",
    "    'Later than day 28',\n",
    "]\n",
    "reactor_period_dropdown = widgets.Dropdown(\n",
    "    options=options,\n",
    "   # description='Reactor Period:',\n",
    "    disabled=False,\n",
    ")\n",
    "\n",
    "# Create dictionary to map drop-down selections to week values\n",
    "week_mapping = {\n",
    "    'Downtime': 0,\n",
    "    'Between day 1-7': 1,\n",
    "    'Between day 8-14': 2,\n",
    "    'Between day 15-21': 3,\n",
    "    'Between day 22-28': 4,\n",
    "    'Later than day 28': 5\n",
    "}\n",
    "Week_label = widgets.Label(value='Reactor Period')\n",
    "\n",
    "# Display widget\n",
    "display(Week_label)\n",
    "display(reactor_period_dropdown)"
   ]
  },
  {
   "cell_type": "markdown",
   "id": "6b76365d",
   "metadata": {},
   "source": [
    "# Isotope Activity Input\n",
    "\n",
    "### Overview:\n",
    "This code provides an interactive interface for users to input isotope activities. It categorizes isotopes into two main dictionaries: isotope_dict_measured and isotope_dict_strange. The user can add activity data for each isotope and submit all the data at once.\n",
    "\n",
    "### Dictionaries:\n",
    "- isotope_dict_measured: Contains isotopes that are commonly measured.\n",
    "- isotope_dict_strange: Contains isotopes that are less commonly encountered or have peculiar behaviors.\n",
    "\n",
    "### Functions:\n",
    "- add_activity_input(b, isotope_dict):\n",
    "    - This function creates a dropdown menu for isotopes and a corresponding input field for their activities.\n",
    "\n",
    "### Parameters:\n",
    "- b: The button that triggers this function.\n",
    "- isotope_dict: The dictionary containing the isotopes for which the activity needs to be inputted.\n",
    "\n",
    "### add_activity_input_measured(b) & add_activity_input_strange(b):\n",
    "- These functions are specific implementations of the add_activity_input function for the isotope_dict_measured and isotope_dict_strange dictionaries, respectively.\n",
    "\n",
    "### process_user_inputs(b):\n",
    "- This function processes all the user inputs and stores them in a DataFrame.\n",
    "- The DataFrame has two columns: 'Isotope' and 'Activity'.\n",
    "- The function returns the DataFrame containing all the inputted data.\n",
    "\n",
    "\n",
    "### Buttons:\n",
    "- add_activity_measured_button: Adds a new row for inputting activity data for isotopes in the isotope_dict_measured.\n",
    "- add_activity_strange_button: Adds a new row for inputting activity data for isotopes in the isotope_dict_strange.\n",
    "- submit_all_button: Submits all the inputted data and processes it using the process_user_inputs function.\n",
    "\n",
    "## Usage:\n",
    "- Click on the \"Add Measured Activity Input\" button to add a new row for inputting activity data for commonly measured isotopes.\n",
    "- Click on the \"Add Strange Activity Input\" button to add a new row for inputting activity data if isotope is not found in \"Add Measured Activity Input\".\n",
    "- For each row, select the isotope from the dropdown menu and input its activity in the provided field.\n",
    "- Once all the data has been inputted, click on the \"Submit All\" button to process the data.\n",
    "\n",
    "### Important Notes:\n",
    "- Do not run the cell after adding activity data, as this will reset the cell and you will have to do it again!!\n",
    "- Only include isotopes that have been reported. If an isotope was measured but was below the limit, it should not be included in the input."
   ]
  },
  {
   "cell_type": "code",
   "execution_count": 5,
   "id": "4a8d5a57",
   "metadata": {},
   "outputs": [
    {
     "data": {
      "application/vnd.jupyter.widget-view+json": {
       "model_id": "36e016771eb74782bd6eafb19d5c5d5b",
       "version_major": 2,
       "version_minor": 0
      },
      "text/plain": [
       "Button(description='Add Measured Activity Input', style=ButtonStyle())"
      ]
     },
     "metadata": {},
     "output_type": "display_data"
    },
    {
     "data": {
      "application/vnd.jupyter.widget-view+json": {
       "model_id": "a827a60a132742b3a6a80f9e6999dfe3",
       "version_major": 2,
       "version_minor": 0
      },
      "text/plain": [
       "Button(description='Add Strange Activity Input', style=ButtonStyle())"
      ]
     },
     "metadata": {},
     "output_type": "display_data"
    },
    {
     "data": {
      "application/vnd.jupyter.widget-view+json": {
       "model_id": "7f3ea4e80d5f4353b0bd9d634e5d82fe",
       "version_major": 2,
       "version_minor": 0
      },
      "text/plain": [
       "Button(description='Submit All', style=ButtonStyle())"
      ]
     },
     "metadata": {},
     "output_type": "display_data"
    },
    {
     "data": {
      "application/vnd.jupyter.widget-view+json": {
       "model_id": "7850015a880e4a42ac5e6fc792695526",
       "version_major": 2,
       "version_minor": 0
      },
      "text/plain": [
       "Dropdown(description='Isotope:', options=('24Na', '41Ar', '54Mn', '51Cr', '55Fe', '56Ni', '56Mn', '60Co', '85m…"
      ]
     },
     "metadata": {},
     "output_type": "display_data"
    },
    {
     "data": {
      "application/vnd.jupyter.widget-view+json": {
       "model_id": "76c29557bea944dba4f1c1b86b28c95a",
       "version_major": 2,
       "version_minor": 0
      },
      "text/plain": [
       "FloatText(value=0.0, description='Activity (Bq):')"
      ]
     },
     "metadata": {},
     "output_type": "display_data"
    },
    {
     "data": {
      "application/vnd.jupyter.widget-view+json": {
       "model_id": "3a80a2aafd58492396bdadeedf3b1f9b",
       "version_major": 2,
       "version_minor": 0
      },
      "text/plain": [
       "Dropdown(description='Isotope:', options=('24Na', '41Ar', '54Mn', '51Cr', '55Fe', '56Ni', '56Mn', '60Co', '85m…"
      ]
     },
     "metadata": {},
     "output_type": "display_data"
    },
    {
     "data": {
      "application/vnd.jupyter.widget-view+json": {
       "model_id": "d601f5fe13e54f5ab79e24851a2edd70",
       "version_major": 2,
       "version_minor": 0
      },
      "text/plain": [
       "FloatText(value=0.0, description='Activity (Bq):')"
      ]
     },
     "metadata": {},
     "output_type": "display_data"
    },
    {
     "data": {
      "application/vnd.jupyter.widget-view+json": {
       "model_id": "5658da1c12df4a83b67b3320cafc53f5",
       "version_major": 2,
       "version_minor": 0
      },
      "text/plain": [
       "Dropdown(description='Isotope:', options=('24Na', '41Ar', '54Mn', '51Cr', '55Fe', '56Ni', '56Mn', '60Co', '85m…"
      ]
     },
     "metadata": {},
     "output_type": "display_data"
    },
    {
     "data": {
      "application/vnd.jupyter.widget-view+json": {
       "model_id": "fcf5d8f899c8447487d50a374f82e1f1",
       "version_major": 2,
       "version_minor": 0
      },
      "text/plain": [
       "FloatText(value=0.0, description='Activity (Bq):')"
      ]
     },
     "metadata": {},
     "output_type": "display_data"
    },
    {
     "data": {
      "application/vnd.jupyter.widget-view+json": {
       "model_id": "bd7578e2085a495a8caf35ae88ad0de0",
       "version_major": 2,
       "version_minor": 0
      },
      "text/plain": [
       "Dropdown(description='Isotope:', options=('24Na', '41Ar', '54Mn', '51Cr', '55Fe', '56Ni', '56Mn', '60Co', '85m…"
      ]
     },
     "metadata": {},
     "output_type": "display_data"
    },
    {
     "data": {
      "application/vnd.jupyter.widget-view+json": {
       "model_id": "87e0f2aa8f234da79535ec87a9ea7583",
       "version_major": 2,
       "version_minor": 0
      },
      "text/plain": [
       "FloatText(value=0.0, description='Activity (Bq):')"
      ]
     },
     "metadata": {},
     "output_type": "display_data"
    },
    {
     "data": {
      "application/vnd.jupyter.widget-view+json": {
       "model_id": "b0681b85d07747b3b827942d101318cc",
       "version_major": 2,
       "version_minor": 0
      },
      "text/plain": [
       "Dropdown(description='Isotope:', options=('24Na', '41Ar', '54Mn', '51Cr', '55Fe', '56Ni', '56Mn', '60Co', '85m…"
      ]
     },
     "metadata": {},
     "output_type": "display_data"
    },
    {
     "data": {
      "application/vnd.jupyter.widget-view+json": {
       "model_id": "d3616ddfc0f24ab5be9e20f64662891e",
       "version_major": 2,
       "version_minor": 0
      },
      "text/plain": [
       "FloatText(value=0.0, description='Activity (Bq):')"
      ]
     },
     "metadata": {},
     "output_type": "display_data"
    },
    {
     "data": {
      "application/vnd.jupyter.widget-view+json": {
       "model_id": "e038e195b5514511ab772b863186d9a5",
       "version_major": 2,
       "version_minor": 0
      },
      "text/plain": [
       "Dropdown(description='Isotope:', options=('24Na', '41Ar', '54Mn', '51Cr', '55Fe', '56Ni', '56Mn', '60Co', '85m…"
      ]
     },
     "metadata": {},
     "output_type": "display_data"
    },
    {
     "data": {
      "application/vnd.jupyter.widget-view+json": {
       "model_id": "7e2846362068471ab005b5bd7329b652",
       "version_major": 2,
       "version_minor": 0
      },
      "text/plain": [
       "FloatText(value=0.0, description='Activity (Bq):')"
      ]
     },
     "metadata": {},
     "output_type": "display_data"
    },
    {
     "data": {
      "application/vnd.jupyter.widget-view+json": {
       "model_id": "fad7fe67275a4f6d8675a1a2e3ab5acc",
       "version_major": 2,
       "version_minor": 0
      },
      "text/plain": [
       "Dropdown(description='Isotope:', options=('24Na', '41Ar', '54Mn', '51Cr', '55Fe', '56Ni', '56Mn', '60Co', '85m…"
      ]
     },
     "metadata": {},
     "output_type": "display_data"
    },
    {
     "data": {
      "application/vnd.jupyter.widget-view+json": {
       "model_id": "108d85a8cfe34df3bd6730e0539c7f84",
       "version_major": 2,
       "version_minor": 0
      },
      "text/plain": [
       "FloatText(value=0.0, description='Activity (Bq):')"
      ]
     },
     "metadata": {},
     "output_type": "display_data"
    },
    {
     "data": {
      "application/vnd.jupyter.widget-view+json": {
       "model_id": "1b675abb8a12466391a3e838aaf2dcb7",
       "version_major": 2,
       "version_minor": 0
      },
      "text/plain": [
       "Dropdown(description='Isotope:', options=('24Na', '41Ar', '54Mn', '51Cr', '55Fe', '56Ni', '56Mn', '60Co', '85m…"
      ]
     },
     "metadata": {},
     "output_type": "display_data"
    },
    {
     "data": {
      "application/vnd.jupyter.widget-view+json": {
       "model_id": "3ec1aae59baf45639bb00c7ba2dac0df",
       "version_major": 2,
       "version_minor": 0
      },
      "text/plain": [
       "FloatText(value=0.0, description='Activity (Bq):')"
      ]
     },
     "metadata": {},
     "output_type": "display_data"
    },
    {
     "data": {
      "application/vnd.jupyter.widget-view+json": {
       "model_id": "6c6736e315db41d9ab830f7c47391e96",
       "version_major": 2,
       "version_minor": 0
      },
      "text/plain": [
       "Dropdown(description='Isotope:', options=('24Na', '41Ar', '54Mn', '51Cr', '55Fe', '56Ni', '56Mn', '60Co', '85m…"
      ]
     },
     "metadata": {},
     "output_type": "display_data"
    },
    {
     "data": {
      "application/vnd.jupyter.widget-view+json": {
       "model_id": "6ac693115f004ef7be42ae4f200baacf",
       "version_major": 2,
       "version_minor": 0
      },
      "text/plain": [
       "FloatText(value=0.0, description='Activity (Bq):')"
      ]
     },
     "metadata": {},
     "output_type": "display_data"
    },
    {
     "data": {
      "application/vnd.jupyter.widget-view+json": {
       "model_id": "6a0406224b684e189698b79b8128b034",
       "version_major": 2,
       "version_minor": 0
      },
      "text/plain": [
       "Dropdown(description='Isotope:', options=('24Na', '41Ar', '54Mn', '51Cr', '55Fe', '56Ni', '56Mn', '60Co', '85m…"
      ]
     },
     "metadata": {},
     "output_type": "display_data"
    },
    {
     "data": {
      "application/vnd.jupyter.widget-view+json": {
       "model_id": "26becb3d753e42549277a2c0bc71cd4a",
       "version_major": 2,
       "version_minor": 0
      },
      "text/plain": [
       "FloatText(value=0.0, description='Activity (Bq):')"
      ]
     },
     "metadata": {},
     "output_type": "display_data"
    },
    {
     "data": {
      "application/vnd.jupyter.widget-view+json": {
       "model_id": "ce0c8a1e574b4eabb190765eb19ca441",
       "version_major": 2,
       "version_minor": 0
      },
      "text/plain": [
       "Dropdown(description='Isotope:', options=('24Na', '41Ar', '54Mn', '51Cr', '55Fe', '56Ni', '56Mn', '60Co', '85m…"
      ]
     },
     "metadata": {},
     "output_type": "display_data"
    },
    {
     "data": {
      "application/vnd.jupyter.widget-view+json": {
       "model_id": "0e35976b0cb44cdfa94825e19ed0e5e2",
       "version_major": 2,
       "version_minor": 0
      },
      "text/plain": [
       "FloatText(value=0.0, description='Activity (Bq):')"
      ]
     },
     "metadata": {},
     "output_type": "display_data"
    },
    {
     "data": {
      "application/vnd.jupyter.widget-view+json": {
       "model_id": "17ae4e55ce21472ebba650c51b6acfab",
       "version_major": 2,
       "version_minor": 0
      },
      "text/plain": [
       "Dropdown(description='Isotope:', options=('24Na', '41Ar', '54Mn', '51Cr', '55Fe', '56Ni', '56Mn', '60Co', '85m…"
      ]
     },
     "metadata": {},
     "output_type": "display_data"
    },
    {
     "data": {
      "application/vnd.jupyter.widget-view+json": {
       "model_id": "5d243afdf40f4de68d029b1c2939ed3e",
       "version_major": 2,
       "version_minor": 0
      },
      "text/plain": [
       "FloatText(value=0.0, description='Activity (Bq):')"
      ]
     },
     "metadata": {},
     "output_type": "display_data"
    }
   ],
   "source": [
    "isotope_dict_measured = {\n",
    "    '24Na': None,   '41Ar': None,   '54Mn': None,  '51Cr': None,\n",
    "    '55Fe': None,  '56Ni': None,  '56Mn': None,  '60Co': None,\n",
    "    '85mKr': None,  '92Sr': None,  '93mNb': None, '97Nb': None,\n",
    "    '99mTc': None,  '109Cd': None,  '110mAg': None,'115mCd': None,\n",
    "    '115Cd': None, '115mIn': None,'117mSn': None, '122Sb': None,\n",
    "    '123I': None,   '124Sb': None, '124I': None,  '125mTe': None,\n",
    "    '125I': None,  '131I': None, '132I': None,   '133I': None,\n",
    "    '133Xe': None, '135Xe': None, '139Ba': None, '231Th': None,\n",
    "    '239Np': None }\n",
    "\n",
    "\n",
    "isotope_dict_strange = {\n",
    "    '85Kr': None,   '89Kr': None,   '131mXe': None,  '133mXe': None,\n",
    "    '137Xe': None,  '138Xe': None,  '84Br': None,   '88Rb': None,\n",
    "    '89Rb': None, '92Y': None, '93Sr': None, '93Y': None,\n",
    "    '94Y': None, '105Rh': None,  '131Te': None, '131xTe': None,\n",
    "    '132Te': None, '136Cs': None, '137Cs': None, '138Cs': None,\n",
    "    '144Ce': None, '144Pr': None, '57Co': None, '58Co': None,\n",
    "    '59Fe': None, '65Ni': None, '95Zr': None, '97Zr': None,\n",
    "    '108mAg': None, '125Sb': None, '38Cl': None, '42K': None,\n",
    "    '181W': None, '186Re': None, '187W': None, '188W': None,\n",
    "    '7Be': None, '22Na': None, '40K': None, '44Ti': None,\n",
    "    '46Sc': None, '64Cu': None, '65Zn': None, '67Ga': None,\n",
    "    '69mZn': None, '75Se': None, '76As': None, '82Br': None,\n",
    "    '83*Rb': None, '85Sr': None, '88Y': None, '89Zr': None,\n",
    "    '90*Mo': None, '94Nb': None, '95Nb': None, '95mNb': None,\n",
    "    '96Nb': None, '96Tc': None,  '110Sn': None,\n",
    "    '111In': None, '113Sn': None, '114mIn': None, '121Te': None,\n",
    "    '121xTe': None, '123mTe': None, '125Xe': None,\n",
    "    '126I': None, '132Cs': None, '133Ba': None, '138La': None,\n",
    "    '138Nd': None, '152Eu': None, '153Sm': None, '154Eu': None,\n",
    "    '155Eu': None, '159Gd': None, '161Tb': None, '166mHo': None,\n",
    "    '169Yb': None, '173Lu': None, '174Lu': None, '175Lu': None,\n",
    "    '175Yb': None, '176Lu': None, '177Lu': None, '177xLu': None,\n",
    "    '181Hf': None, '181W': None, '182Ta': None, '183Ta': None,\n",
    "    '191Os': None, '192Ir': None, '193Os': None, '195Au': None,\n",
    "    '195Hg': None, '195mPt': None, '199mHg': None, '202Tl': None,\n",
    "    '203Hg': None, '203Pb': None, '207Bi': None, '207Tl': None,\n",
    "    '208Tl': None, '210xBi': None, '210Pb': None, '211Bi': None,\n",
    "    '211Pb': None, '212Bi': None, '212Pb': None, '214Bi': None,\n",
    "    '214Pb': None, '219Rn': None, '223Fr': None, '223Ra': None,\n",
    "    '224Ra': None, '225Ac': None, '226Ra': None, '227Ra': None,\n",
    "    '227Th': None, '228Ac': None, '228Th': None, '231Pa': None,\n",
    "    '231U': None, '232Th': None, '233Pa': None,\n",
    "    '234Pa': None, '234Th': None, '235U': None, '237Np': None,\n",
    "    '241Am': None, '243Am': None, '243Cm': None,\n",
    "    '245Cm': None\n",
    "}\n",
    "\n",
    "\n",
    "\n",
    "# Define a function to add a new row of isotope and activity inputs\n",
    "def add_activity_input(b, isotope_dict):\n",
    "    # Create the isotope dropdown and activity input\n",
    "    isotope_dropdown = widgets.Dropdown(options=isotope_dict.keys(), description='Isotope:')\n",
    "    activity_input = widgets.FloatText(description='Activity (Bq):')\n",
    "    \n",
    "    # Add the new widgets to the list of inputs\n",
    "    inputs.append((isotope_dropdown, activity_input))\n",
    "\n",
    "    # Display the new widgets\n",
    "    display(isotope_dropdown)\n",
    "    display(activity_input)\n",
    "\n",
    "def add_activity_input_measured(b):\n",
    "    add_activity_input(b, isotope_dict_measured)\n",
    "\n",
    "def add_activity_input_strange(b):\n",
    "    add_activity_input(b, isotope_dict_strange)\n",
    "\n",
    "# Define a function to submit all the activity data\n",
    "def process_user_inputs(b):\n",
    "    # Create an empty DataFrame to store the isotopes and their activities\n",
    "    df = pd.DataFrame(columns=['Isotope', 'Activity'])\n",
    "    \n",
    "    # Add each input pair to the DataFrame\n",
    "    for isotope_dropdown, activity_input in inputs:\n",
    "        new_row = pd.DataFrame({'Isotope': [isotope_dropdown.value], 'Activity': [activity_input.value]})\n",
    "        df = pd.concat([df, new_row], ignore_index=True)\n",
    "    \n",
    "    return df  # return the df\n",
    "\n",
    "# Create buttons for adding new rows of activity inputs\n",
    "add_activity_measured_button = widgets.Button(description='Add Measured Activity Input')\n",
    "add_activity_strange_button = widgets.Button(description='Add Strange Activity Input')\n",
    "\n",
    "# Create a button for submitting all the activity data\n",
    "submit_all_button = widgets.Button(description='Submit All')\n",
    "\n",
    "# Register the button click events\n",
    "add_activity_measured_button.on_click(add_activity_input_measured)\n",
    "add_activity_strange_button.on_click(add_activity_input_strange)\n",
    "submit_all_button.on_click(process_user_inputs) \n",
    "\n",
    "# Create an empty list to store the input widgets\n",
    "inputs = []\n",
    "\n",
    "display(add_activity_measured_button)\n",
    "display(add_activity_strange_button)\n",
    "display(submit_all_button)\n"
   ]
  },
  {
   "cell_type": "markdown",
   "id": "ac484fa0",
   "metadata": {},
   "source": [
    "# Running the code\n",
    "\n",
    "After pushing the button 'Process Inputs' below, the assessment of the isotopes this week will happen. The output is a table which says whether isotopes are indeed in baseline or out of baseline and if in Baseline, whether below of above mean. \n",
    "\n",
    "There are several 'malfunction indicators' included in the output. If one of these is measured, it will return: \"An indicator of malfunction is measured, look into this\". \n",
    "\n",
    "\n",
    "If it doesn't work, check a couple of things:\n",
    "1. Did you use the following function under 'Kernal': 'Restart & Run All'\n",
    "    If not all cells were run before the inputs are given, then the classes the cell directly below uses are not defined yet.\n",
    "2. If this didn't fix the problem, try filling in the values for this week and running the classes seperately. I kept the outputs under the class cells, such that if it works it should give an output that makes sense to you. If it doesn't, this is probably the problem. "
   ]
  },
  {
   "cell_type": "code",
   "execution_count": 22,
   "id": "9f1c3892",
   "metadata": {
    "scrolled": false
   },
   "outputs": [
    {
     "data": {
      "application/vnd.jupyter.widget-view+json": {
       "model_id": "ff333fc3cfaa430591daf48ce11835c9",
       "version_major": 2,
       "version_minor": 0
      },
      "text/plain": [
       "Button(description='Process Inputs', style=ButtonStyle())"
      ]
     },
     "metadata": {},
     "output_type": "display_data"
    },
    {
     "data": {
      "application/vnd.jupyter.widget-view+json": {
       "model_id": "20f9f8eb9ca146708cab185660515f09",
       "version_major": 2,
       "version_minor": 0
      },
      "text/plain": [
       "Output()"
      ]
     },
     "metadata": {},
     "output_type": "display_data"
    }
   ],
   "source": [
    "\n",
    "# Process the inputs when the user is ready\n",
    "process_button = widgets.Button(description=\"Process Inputs\")\n",
    "\n",
    "output = widgets.Output()\n",
    "\n",
    "@output.capture()\n",
    "def on_button_clicked(b):\n",
    "    selected_week = week_mapping[reactor_period_dropdown.value]\n",
    "    Input = InputProcessor(sample_time_date_input, analysis_time_date_input, isotope_dict_measured, isotope_dict_strange)\n",
    "    Input.process_date_time_inputs()\n",
    "    \n",
    "    Normaliser = IsotopeProcessor(Input.get_transposed_df(), stats, groups, groups_with_strange, week_mapping, reactor_period_dropdown, isotope_dict_strange)\n",
    "    Normaliser.apply_normalization()\n",
    "\n",
    "    group_means_df = Normaliser.group_means()\n",
    "    \n",
    "    # Fetch and print the comments\n",
    "    comments = Normaliser.get_comments()\n",
    "    for group, comment in comments.items():\n",
    "        print(f\"{group}: {comment}\")\n",
    "    \n",
    "    baseline_results = compare_to_baseline(group_means_df, baseline_df, selected_week)\n",
    "    \n",
    "    print(tabulate(baseline_results, headers='keys', tablefmt='psql', showindex=False))\n",
    "    \n",
    "      # Extract the isotopes that the user has input\n",
    "    input_isotopes = [isotope_dropdown.value for isotope_dropdown, _ in inputs]\n",
    "    \n",
    "    # Use the IsotopeCommenter\n",
    "    commenter = IsotopeCommenter()\n",
    "    commenter.print_comments_for_isotopes(input_isotopes)\n",
    "\n",
    "    \n",
    "    original_constants = Input.get_transposed_df()  # Get the original values\n",
    "    checker = IsotopeChecker(Malf_indicators, inputs, group_means_df, baseline_df, selected_week, original_constants)\n",
    "    checker.check_defect_indicator()\n",
    "    checker.check_group_out_of_base()\n",
    "    checker.check_ratio_out_of_base()  # Check the ratio\n",
    "\n",
    "\n",
    "\n",
    "    #checker = IsotopeChecker(Malf_indicators, inputs)\n",
    "    #checker.check_defect_indicator()\n",
    "\n",
    "# Register the button click event\n",
    "process_button.on_click(on_button_clicked)\n",
    "\n",
    "# Display the button\n",
    "display(process_button)\n",
    "display(output)"
   ]
  },
  {
   "cell_type": "markdown",
   "id": "72418ff7",
   "metadata": {},
   "source": [
    "# Modifying inputs\n",
    "\n",
    "## InputProcessor Class Documentation\n",
    "\n",
    "### Overview\n",
    "The InputProcessor class assists in handling and processing user input related to isotopes' sample and analysis times. It also creates a DataFrame based on the user input of isotopes and their activities, making it easy to analyze and process this data further.\n",
    "\n",
    "### Attributes:\n",
    "- sample_time_date_input: User input for the sample time and date.\n",
    "- analysis_time_date_input: User input for the analysis time and date.\n",
    "- df: A DataFrame to store the isotopes and their activities.\n",
    "- diff_hours: The difference in hours between sampling and analysis.\n",
    "- isotope_dict_measured: A dictionary containing measured isotopes.\n",
    "- isotope_dict_strange: A dictionary containing strange isotopes.\n",
    "\n",
    "### Methods:\n",
    "\n",
    "__init__(self, sample_time_date_input, analysis_time_date_input, isotope_dict_measured, isotope_dict_strange):\n",
    "- Description: Constructor method. Initializes instance attributes based on given parameters.\n",
    "\n",
    "str_to_datetime(self, date_str: str) -> datetime:\n",
    "- Description: Converts a string into a datetime object.\n",
    "- Parameters:\n",
    "    - date_str (str): The date string to be converted.\n",
    "- Returns:\n",
    "    - Datetime object converted from the provided date string.\n",
    "\n",
    "calculate_diff_in_hours(self, date1: datetime, date2: datetime) -> float:\n",
    "- Description: Calculates the difference between two datetime objects in hours.\n",
    "- Parameters:\n",
    "    - date1 (datetime): The starting date and time.\n",
    "    - date2 (datetime): The ending date and time.\n",
    "- Returns:\n",
    "    - The difference between the two datetime objects in hours (float).\n",
    "\n",
    "process_date_time_inputs(self):\n",
    "- Description: Processes the user-input date and time values for sampling and analysis and calculates their difference in hours.\n",
    "- Returns:\n",
    "    - Printed output displaying the time difference and relevant comment regarding isotopes' half-life.\n",
    "\n",
    "process_user_inputs(self) -> pd.DataFrame:\n",
    "- Description: Processes the user input for isotopes and their activities and stores them in the df attribute.\n",
    "- Returns:\n",
    "    - DataFrame (df) with columns 'Isotope' and 'Activity', reflecting user input.\n",
    "\n",
    "get_transposed_df(self) -> pd.DataFrame:\n",
    "- Description: Processes user inputs, removes duplicates, sets the appropriate index, and transposes the DataFrame for further processing.\n",
    "- Returns:\n",
    "    - Transposed DataFrame for further processing.\n",
    "\n",
    "### Notes:\n",
    "Users should provide appropriate datetime formatted strings for sample_time_date_input and analysis_time_date_input. The class is designed to handle inputs and organize them in a structured DataFrame format for easier analysis"
   ]
  },
  {
   "cell_type": "code",
   "execution_count": 7,
   "id": "013fbfd2",
   "metadata": {},
   "outputs": [],
   "source": [
    "class InputProcessor:\n",
    "    def __init__(self, sample_time_date_input, analysis_time_date_input, isotope_dict_measured, isotope_dict_strange):\n",
    "\n",
    "        self.sample_time_date_input = sample_time_date_input\n",
    "        self.analysis_time_date_input = analysis_time_date_input\n",
    "        #self.isotopes = isotopes\n",
    "        self.df = None\n",
    "        self.diff_hours = None\n",
    "        self.isotope_dict_measured = isotope_dict_measured\n",
    "        self.isotope_dict_strange = isotope_dict_strange\n",
    "    \n",
    "    # Function to convert string to datetime object (For the time and date input)\n",
    "    def str_to_datetime(self, date_str):\n",
    "        return datetime.strptime(date_str, '%d/%m/%Y %H:%M:%S')\n",
    "\n",
    "    # Function to calculate the difference between two datetime objects\n",
    "    def calculate_diff_in_hours(self, date1, date2):\n",
    "        diff = date2 - date1\n",
    "        return diff.total_seconds() / 3600.0\n",
    "        \n",
    "    # Calculates the time difference between sampling and analysis\n",
    "    def process_date_time_inputs(self):\n",
    "        # Convert the inputs to datetime objects\n",
    "        sample_time_date = self.str_to_datetime(self.sample_time_date_input.value)\n",
    "        analysis_time_date = self.str_to_datetime(self.analysis_time_date_input.value)\n",
    "\n",
    "        # Calculate the difference in hours\n",
    "        diff_hours = self.calculate_diff_in_hours(sample_time_date, analysis_time_date)\n",
    "        #print(f\"Time from sample to analysis: {diff_hours} hours\")\n",
    "        return print(f\"Time from sample to analysis: {diff_hours} hours, so any isotope with a half life shorter than {np.round(diff_hours/15, 2)} hours will not be measured\")\n",
    "\n",
    "\n",
    "    # Define a function to submit all the activity data\n",
    "        # Define a function to submit all the activity data\n",
    "    def process_user_inputs(self):\n",
    "        # Create an empty DataFrame to store the isotopes and their activities\n",
    "        self.df = pd.DataFrame(columns=['Isotope', 'Activity'])\n",
    "\n",
    "        # Combine both dictionaries into one for processing\n",
    "        combined_dict = {**self.isotope_dict_measured, **self.isotope_dict_strange}\n",
    "\n",
    "        # Add each input pair to the DataFrame\n",
    "        for isotope_dropdown, activity_input in inputs:\n",
    "            new_row = pd.DataFrame({'Isotope': [isotope_dropdown.value], 'Activity': [activity_input.value]})\n",
    "            new_row['Isotope'] = new_row['Isotope'].str.strip()  # remove any leading or trailing whitespaces\n",
    "            self.df = pd.concat([self.df, new_row], ignore_index=True)\n",
    "\n",
    "            # Also store the activity in the combined dictionary\n",
    "            if isotope_dropdown.value in combined_dict:\n",
    "                combined_dict[isotope_dropdown.value] = activity_input.value\n",
    "\n",
    "\n",
    "        return self.df  # return the df\n",
    "\n",
    "\n",
    "\n",
    "    # Needs to be transposed to have the same format as the normalisation values\n",
    "    def get_transposed_df(self):\n",
    "        #self.diff_hours = self.process_date_time_inputs()  # Assign the returned value to self.diff_hours\n",
    "        self.df = self.process_user_inputs()\n",
    "        #self.calculate_activities()\n",
    "\n",
    "        # Drop duplicates isotopes and keep the last entry\n",
    "        self.df.drop_duplicates(subset='Isotope', keep='last', inplace=True)\n",
    "\n",
    "        # Set the 'Isotope' column as the index so we can transpose\n",
    "        self.df.set_index('Isotope', inplace=True)\n",
    "\n",
    "        # Transpose the DataFrame\n",
    "        self.df = self.df.transpose()\n",
    "\n",
    "        # Drop the 'Activity' row\n",
    "        #self.df.drop('Activity', inplace=True)\n",
    "        return self.df  # corrected return statement\n",
    "\n",
    "\n",
    "\n"
   ]
  },
  {
   "cell_type": "markdown",
   "id": "a0691196",
   "metadata": {},
   "source": [
    "### If the cell above doesn't work, uncomment the cell below for error identification"
   ]
  },
  {
   "cell_type": "code",
   "execution_count": 8,
   "id": "3bac69e5",
   "metadata": {},
   "outputs": [],
   "source": [
    "\n",
    "#processor = InputProcessor(sample_time_date_input, analysis_time_date_input, isotope_dict_measured, isotope_dict_strange)\n",
    "#df = processor.get_transposed_df()\n",
    "#print(' ')\n",
    "#print('The activity now is:')\n",
    "#print(df.columns)"
   ]
  },
  {
   "cell_type": "markdown",
   "id": "346981fa",
   "metadata": {},
   "source": [
    "# Class: Normalise and group isotopes\n",
    "\n",
    "## IsotopeProcessor Class Documentation\n",
    "\n",
    "## Overview:\n",
    "The IsotopeProcessor class processes and analyzes isotope-related data. It can normalize data based on provided statistics, group isotopes, and compute group mean values.\n",
    "\n",
    "### Constructor:\n",
    "__init__(self, df, stats, groups, groups_with_strange, week_mapping, reactor_period_dropdown, isotope_dict_strange)\n",
    "Initializes the IsotopeProcessor class.\n",
    "\n",
    "### Parameters:\n",
    "\n",
    "- df: DataFrame - The primary data containing isotope values.\n",
    "- stats: Dict - Statistics for isotopes, consisting of minimum and range values. This was calculated in a different notebook, entitled 'Final Baseline Calculation'. The reason it is not calculated in this notebook is that the user would need to import an external file to run the notebook, which I wanted to avoid. \n",
    "- groups: Dict - Classification of isotopes into certain categories.\n",
    "- groups_with_strange: Dict - Similar to groups, but for a separate set of isotopes termed 'strange'.\n",
    "- week_mapping: Not described in the provided data.\n",
    "- reactor_period_dropdown: Not described but might be some form of UI input.\n",
    "- isotope_dict_strange: Dict - A dictionary defining the 'strange' isotopes.\n",
    "\n",
    "### Methods:\n",
    "- normalize(self, value, min_val, range_val) -> float\n",
    "- Normalizes a given value based on the provided minimum and range.\n",
    "\n",
    "\n",
    "### Parameters:\n",
    "\n",
    "- value: Float - The value to be normalized.\n",
    "- min_val: Float - The minimum value from stats.\n",
    "- range_val: Float - The range value from stats.\n",
    "\n",
    "### Returns 1:\n",
    "\n",
    "- Float: The normalized value.\n",
    "\n",
    "apply_normalization(self) -> pd.DataFrame\n",
    "- Applies normalization to all isotopes in the dataframe based on the stats and strange_isotopes data.\n",
    "\n",
    "\n",
    "### Returns 2:\n",
    "\n",
    "- DataFrame: A dataframe with normalized isotope values.\n",
    "\n",
    "combine_groups(self) -> Dict\n",
    "- Combines the isotope groups from groups and groups_with_strange into a single dictionary.\n",
    "\n",
    "### Returns 3:\n",
    "- Dict: The combined isotope groups.\n",
    "\n",
    "group_means(self) -> pd.DataFrame\n",
    "= Computes the mean normalized values for each group of isotopes.\n",
    "\n",
    "### Returns 4:\n",
    "\n",
    "DataFrame: Contains the mean values for each isotope group.\n",
    "\n"
   ]
  },
  {
   "cell_type": "code",
   "execution_count": 9,
   "id": "f7fdbd6c",
   "metadata": {},
   "outputs": [],
   "source": [
    "stats = {'24Na': {'min': 0.0, 'range': 215000.0},\n",
    " '41Ar': {'min': 0.0, 'range': 16100.0},\n",
    " '54Mn': {'min': 0.0, 'range': 156.0},\n",
    " '51Cr': {'min': 0.0, 'range': 36.1},\n",
    " '55Fe': {'min': 0.0, 'range': 2790.0},\n",
    " '56Ni': {'min': 0.0, 'range': 15.2},\n",
    " '56Mn': {'min': 0.0, 'range': 1630.0},\n",
    " '60Co': {'min': 0.0, 'range': 1.1},\n",
    " '85mKr': {'min': 0.0, 'range': 78.6},\n",
    " '92Sr': {'min': 0.0, 'range': 263.0},\n",
    " '93mNb': {'min': 0.0, 'range': 578.0},\n",
    " '97Nb': {'min': 0.0, 'range': 3480.0},\n",
    " '99mTc': {'min': 0.0, 'range': 461.0},\n",
    " '103Ru': {'min': 0.0, 'range': 3.9},\n",
    " '109Cd': {'min': 0.0, 'range': 3110.0},\n",
    " '110mAg': {'min': 0.0, 'range': 1.2},\n",
    " '115mCd': {'min': 0.0, 'range': 375.0},\n",
    " '115Cd': {'min': 0.0, 'range': 24200.0},\n",
    " '115mIn': {'min': 0.0, 'range': 14800.0},\n",
    " '117mSn': {'min': 0.0, 'range': 44.6},\n",
    " '122Sb': {'min': 0.0, 'range': 179.0},\n",
    " '123I': {'min': 0.0, 'range': 121.0},\n",
    " '124Sb': {'min': 0.0, 'range': 21.7},\n",
    " '124I': {'min': 0.0, 'range': 5.81},\n",
    " '125mTe': {'min': 0.0, 'range': 718.0},\n",
    " '125I': {'min': 0.0, 'range': 1430.0},\n",
    " '131I': {'min': 0.0, 'range': 11.9},\n",
    " '132I': {'min': 0.0, 'range': 67.7},\n",
    " '133I': {'min': 0.0, 'range': 98.7},\n",
    " '133Xe': {'min': 0.0, 'range': 450.0},\n",
    " '135Xe': {'min': 0.0, 'range': 497.0},\n",
    " '139Ba': {'min': 0.0, 'range': 219.0},\n",
    " '188Re': {'min': 0.0, 'range': 1.44},\n",
    " '231Th': {'min': 0.0, 'range': 984.0},\n",
    " '239Np': {'min': 0.0, 'range': 59.2}}\n",
    "\n",
    "\n",
    "# Define the groups\n",
    "groups = {\n",
    "    'Volatile & Gaseous': ['85mKr', '87Kr', '88Kr', '133Xe', '135Xe', '91Sr', '91mY', '92Sr', '97Nb', '103Ru', '131I', '132I', '133I', '134I', '135I', '138Ba', '138Cs', '139Ce', '140Ba', '141Ce'],\n",
    "    'Contaminant': ['122Sb', '124Sb', '239Np'],\n",
    "    'Structural': ['24Na', '41Ar', '54Mn', '56Mn', '60Co', '99Mo', '99mTc', '109Cd', '115Cd', '115mIn'],\n",
    "    'pH_Eh_related': ['51Cr', '110mAg', '188Re'],\n",
    "    'Unknown/False_positives': ['55Fe', '56Co', '56Ni', '93mNb','117mSn' '123I', '124I', '125I', '125mTe', '231Th']\n",
    "}\n",
    "\n",
    "# Define the groups\n",
    "groups_with_strange = {\n",
    "    #'Gaseous': ['85Kr', '89Kr', '131mXe', '133mXe', '137Xe', '138Xe'],\n",
    "    'Volatile': ['85Kr', '89Kr', '131mXe', '133mXe', '137Xe', '138Xe','84Br', '88Rb', '89Rb', '92Y', '93Sr', '93Y', '94Y', '105Rh', '131Te', '131xTe', '132Te', '136Cs', '137Cs', '138Cs', '144Ce', '144Pr', '95Zr', '95Nb', '97Zr', '97Nb'],\n",
    "    'Structural': ['57Co', '58Co', '59Fe', '65Ni', '95Zr', '97Zr', '108mAg', '125Sb'],\n",
    "    'Contaminant': ['38Cl', '42K'],\n",
    "    'pH_Eh_related': ['181W', '186Re', '187W', '188W'],\n",
    "    'Unknown/False_positive': [\n",
    "        '7Be', '22Na', '40K', '44Ti', '46Sc', '64Cu', '65Zn', '67Ga', '69mZn', '75Se', '76As', '82Br', '83*Rb', '85*Sr',\n",
    "        '88*Y', '89Zr', '90Mo', '94Nb', '95Nb', '95mNb', '96Nb', '96Tc', '97Nb', '110Sn', '111In', '113Sn', '114mIn',\n",
    "        '121Te', '121xTe', '123mTe', '125mTe', '125Xe', '126I', '132Cs', '133Ba', '132Cs', '138La', '138Nd', '152Eu',\n",
    "        '153Sm', '154Eu', '155Eu', '159Gd', '161Tb', '166mHo', '169Yb', '173Lu', '174Lu', '175Lu', '175Yb', '176Lu',\n",
    "        '177Lu', '177xLu', '181Hf', '181W', '182Ta', '183Ta', '191Os', '192Ir', '193Os', '195Au', '195Hg', '195mPt',\n",
    "        '199mHg', '202Tl', '203Hg', '203Pb', '207Bi', '207Tl', '208Tl', '210xBi', '210Pb', '211Bi', '211Pb', '212Bi',\n",
    "        '212Pb', '214Bi', '214Pb', '219Rn', '223Fr', '223Ra', '224Ra', '225Ac', '226Ra', '227Ra', '227Th', '228Ac',\n",
    "        '228Th', '231Pa', '231Th', '231U', '232Th', '233Pa', '234Pa', '234Th', '235U', '237Np', '241Am', '243Am', '243Cm', '245Cm']\n",
    "}\n",
    "\n",
    "class IsotopeProcessor:\n",
    "    def __init__(self, df, stats, groups, groups_with_strange, week_mapping, reactor_period_dropdown,isotope_dict_strange):\n",
    "        self.df = df\n",
    "        self.stats = stats\n",
    "        self.groups = groups\n",
    "        self.week_mapping = week_mapping\n",
    "        self.reactor_period_dropdown = reactor_period_dropdown\n",
    "        self.strange_isotopes = isotope_dict_strange\n",
    "        self.groups_with_strange = groups_with_strange or {}\n",
    "        self.normalised_df = self.df.copy()\n",
    "        self.comments = {}  # Initialize the comments attribute\n",
    "\n",
    "        \n",
    "\n",
    "\n",
    "    def normalize(self, value, min_val, range_val):\n",
    "        if range_val != 0:  # to avoid division by zero\n",
    "            return (value - min_val) / range_val\n",
    "        else:\n",
    "            return value  # if range is 0, return the value as is\n",
    "\n",
    "    def apply_normalization(self):\n",
    "        for isotope in self.df.columns:\n",
    "            min_val, range_val = 0, 0  # Default values\n",
    "            if isotope in self.stats:\n",
    "                min_val = self.stats[isotope]['min']\n",
    "                range_val = self.stats[isotope]['range']\n",
    "            elif isotope in self.strange_isotopes:\n",
    "                # Normalize this isotope using its own value as the range\n",
    "                range_val = self.df[isotope].max()  # Assuming you want the max value as the range\n",
    "            self.normalised_df[isotope] = self.df[isotope].apply(self.normalize, args=(min_val, range_val))\n",
    "        #print(self.normalised_df) # Debugging statement\n",
    "        return self.normalised_df\n",
    "\n",
    "    def combine_groups(self):\n",
    "        # Start with the original groups\n",
    "        combined_groups = self.groups.copy()\n",
    "\n",
    "        # Add the strange isotopes\n",
    "        for group, isotopes in self.groups_with_strange.items():\n",
    "            if group in combined_groups:\n",
    "                combined_groups[group].extend(isotopes)  # If the group exists, extend the list with new isotopes\n",
    "            else:\n",
    "                combined_groups[group] = isotopes  # If the group does not exist, simply add it\n",
    "\n",
    "        return combined_groups\n",
    "\n",
    "    def group_means(self):\n",
    "        group_means = {}\n",
    "        combined_groups = self.combine_groups()\n",
    "\n",
    "        for group, isotopes in combined_groups.items():\n",
    "            intersecting_isotopes = [isotope for isotope in isotopes if isotope in self.normalised_df.columns]\n",
    "\n",
    "            if intersecting_isotopes:\n",
    "                sum_values = self.normalised_df[intersecting_isotopes].sum(axis=1)\n",
    "                group_means[group] = sum_values / len(intersecting_isotopes)\n",
    "\n",
    "                # Check if only one isotope is measured in this group\n",
    "                if len(intersecting_isotopes) == 1:\n",
    "                    comment = f\"Only one isotope ({intersecting_isotopes[0]}) of the '{group}' group is measured. \" \\\n",
    "                              f\"The baseline is normalised assuming multiple are measured, and when just one is measured \" \\\n",
    "                              f\"with a high activity, this is considered a non-problematic outlier. Ignore if out of base.\"\n",
    "                    self.comments[group] = comment  # Store the comment\n",
    "\n",
    "        #print(group_means)\n",
    "        return pd.DataFrame(group_means)\n",
    "\n",
    "    def get_comments(self):\n",
    "        return self.comments\n",
    "\n",
    "    def print_comments(self):\n",
    "        for group, comment in self.comments.items():\n",
    "            print(f\"{group}: {comment}\")\n",
    "\n",
    "\n",
    "\n",
    "\n",
    "\n"
   ]
  },
  {
   "cell_type": "markdown",
   "id": "e2704c84",
   "metadata": {},
   "source": [
    "# compare_to_baseline Function Documentation\n",
    "\n",
    "### Overview:\n",
    "The compare_to_baseline function takes a group mean DataFrame and compares it to a given baseline DataFrame for a specific week. The comparison evaluates if the group mean values are within a defined baseline range and provides a status regarding the same. The function also provides a comparison of the group mean values against the baseline mean for the specific group.\n",
    "\n",
    "### Parameters:\n",
    "- group_means_df: DataFrame - Contains the mean values for isotope groups for a specific week.\n",
    "- baseline_df: DataFrame - Contains the baseline mean, upper, and lower limit values for isotope groups across different weeks.\n",
    "- selected_week: String/Integer - Represents the week for which the comparison is to be done.\n",
    "\n",
    "### Returns:\n",
    "- DataFrame: A DataFrame containing the comparison results with columns:\n",
    "- Group: The name of the isotope group.\n",
    "- Status: Contains one of the values:\n",
    "    - 'Within Baseline' if the mean value is within the baseline range.\n",
    "    - 'Out of Baseline' if the mean value is outside the baseline range.\n",
    "    - 'Not Measured This Week' if the group was not measured for the provided week.\n",
    "\n",
    "- Comparison to Mean: Contains one of the values:\n",
    "    - 'Above Mean' if the mean value is greater than the baseline mean.\n",
    "    - 'Below Mean' if the mean value is less than the baseline mean.\n",
    "    - 'Above Baseline' or 'Below Baseline' if the mean value is outside the baseline range.\n",
    "    - 'N/A' if the group was not measured for the provided week.\n",
    "\n",
    "### Dependencies:\n",
    "- ast\n",
    "- tabulate\n",
    "- pandas (assumed as pd is used in the function)\n",
    "\n",
    "### Details:\n",
    "- The function resets the index of the group_means_df and sets it to the selected_week.\n",
    "- The distinct group names are extracted from the baseline DataFrame's columns.\n",
    "- For each group in group_names:\n",
    "    - Check if the group has been measured for the week.\n",
    "    - If measured, compare its mean value to the baseline range and mean for that group and week.\n",
    "    - If not measured, mark the status as \"Not Measured This Week\".\n",
    "- The results of these comparisons are then stored in a list results_list.\n",
    "- This list is then converted into a DataFrame results_df which is returned by the function."
   ]
  },
  {
   "cell_type": "code",
   "execution_count": 10,
   "id": "bbaff941",
   "metadata": {},
   "outputs": [],
   "source": [
    "import ast\n",
    "from tabulate import tabulate\n",
    "import pandas as pd\n",
    "\n",
    "def compare_to_baseline(group_means_df, baseline_df, selected_week):\n",
    "    \n",
    "    group_means_df.reset_index(inplace=True, drop=True)\n",
    "    group_means_df.index = [selected_week]\n",
    "    results_list = []  # list to hold the results\n",
    "\n",
    "    # obtain distinct group names by removing prefixes from baseline_df.columns\n",
    "    group_names = set(column.replace(\"Mean_\", \"\").replace(\"LowerLimit_\", \"\").replace(\"UpperLimit_\", \"\") for column in baseline_df.columns)\n",
    "\n",
    "    for group in group_names:\n",
    "        if f\"Mean_{group}\" in baseline_df.columns:\n",
    "            if group in group_means_df.columns:\n",
    "                baseline_week = baseline_df[baseline_df['Week'] == selected_week]\n",
    "                within_baseline = (baseline_week[f\"LowerLimit_{group}\"].values[0] <= group_means_df[group]) & (group_means_df[group] <= baseline_week[f\"UpperLimit_{group}\"].values[0])\n",
    "\n",
    "                if all(within_baseline):\n",
    "                    comparison_to_mean = 'Below Mean' if group_means_df[group].mean() < baseline_week[f\"Mean_{group}\"].values[0] else 'Above Mean'\n",
    "                    results_list.append({'Group': group, 'Status': 'Within Baseline', 'Notes': comparison_to_mean})\n",
    "                else:\n",
    "                    if group_means_df[group].mean() < baseline_week[f\"LowerLimit_{group}\"].values[0]:\n",
    "                        comparison_to_baseline = 'Below Baseline'\n",
    "                        problem_indicator = 'Not a Problem'\n",
    "                    else:\n",
    "                        comparison_to_baseline = '█ Above Baseline █'\n",
    "                        problem_indicator = '█ Potential Problem █'\n",
    "                    results_list.append({'Group': group, 'Status': comparison_to_baseline, 'Notes': problem_indicator})\n",
    "            else:\n",
    "                results_list.append({'Group': group, 'Status': \"Not Measured This Week\", 'Notes': 'N/A'})\n",
    "\n",
    "    # Convert the results list to a DataFrame\n",
    "    results_df = pd.DataFrame(results_list)\n",
    "    return results_df\n"
   ]
  },
  {
   "cell_type": "markdown",
   "id": "ea8afa89",
   "metadata": {},
   "source": [
    "# IsotopeChecker Class Documentation\n",
    "\n",
    "### Overview:\n",
    "The IsotopeChecker class is responsible for inspecting and validating isotopes against a set of malfunction indicators. It uses user input, group mean data, and a baseline dataset to make determinations. If a malfunction indicator is detected, it is flagged. Additionally, the class can detect if a specific group, 'Gaseous', falls outside of the baseline.\n",
    "\n",
    "### Attributes:\n",
    "- Malf_indicators: Dictionary\n",
    "    - Key: Isotope name (String)\n",
    "    - Value: Expected value or None for malfunction indicators.\n",
    "- inputs: List of Tuples\n",
    "    - Each tuple consists of (isotope_dropdown, activity_input) where isotope_dropdown and activity_input are likely some form of user input or input control widgets.\n",
    "- group_means_df: DataFrame\n",
    "    - Contains the mean values for isotope groups for a specific week.\n",
    "- baseline_df: DataFrame\n",
    "    - Contains the baseline data for different isotope groups across weeks.\n",
    "- selected_week: String/Integer\n",
    "    - Represents the week for which validations are to be done.\n",
    "\n",
    "### Methods:\n",
    "- process_user_inputs() -> DataFrame:\n",
    "    - Purpose: Converts the user inputs into a DataFrame with columns 'Isotope' and 'Activity'.\n",
    "    - Returns: A DataFrame with the processed user inputs.\n",
    "\n",
    "- check_defect_indicator() -> None:\n",
    "    - Purpose: Validates the user's isotopes against the malfunction indicators. If any malfunction indicator isotope is detected, it is printed out.\n",
    "    - Returns: None, but prints messages to the console.\n",
    "\n",
    "- check_group_out_of_base() -> None:\n",
    "    - Purpose: Checks if the 'Gaseous' group mean is out of the baseline. A warning is issued if it is found to be out of base.\n",
    "    - Returns: None, but prints messages to the console.\n",
    "\n",
    "### Dependencies:\n",
    "- pandas (assumed as pd is used in the methods)\n",
    "- numpy (assumed as np is used in the methods)\n",
    "\n",
    "### Additional Notes:\n",
    "- The class was designed for malfunction detection.\n",
    "- It combines both user input activity and the outcome of baseline calculations to validate isotopes.\n",
    "- If the 'Gaseous' group is detected to be out of base, it is also flagged as a defect indicator."
   ]
  },
  {
   "cell_type": "code",
   "execution_count": 19,
   "id": "e8d685a8",
   "metadata": {},
   "outputs": [],
   "source": [
    "Malf_indicators = {\n",
    "    '85Kr': None, \n",
    "    '87Kr': None,\n",
    "    '88Kr': None,\n",
    "    '89Kr': None,\n",
    "    '133mXe': None,\n",
    "    '131mXe': None,\n",
    "    '138Xe': None,\n",
    "    '82Br': None,\n",
    "    '84Br': None,\n",
    "    '91Sr': None,\n",
    "    '92Sr': None,\n",
    "    '93Sr': None,\n",
    "    '132I': None,\n",
    "    '134mCs': None,\n",
    "    '134Cs': None,\n",
    "    '136Cs': None,\n",
    "    '137Cs': None,\n",
    "    '138Cs': None,\n",
    "    '134I': None,\n",
    "    '135I': None,\n",
    "    '139Ba': None,\n",
    "    '140Ba': None,\n",
    "    '140La': None,\n",
    "    '92Y': None,\n",
    "    '93Y': None,\n",
    "    '94Y': None,\n",
    "    '95Nb': None,\n",
    "    '95mNb': None,\n",
    "    '96Nb': None,\n",
    "    '97Nb': None,\n",
    "    '95Zr': None,\n",
    "    '97Zr': None,\n",
    "    '88Y': None,\n",
    "    '115mIn': None,\n",
    "    '125mTe': None\n",
    "}\n",
    "\n",
    "\n",
    "\n",
    "class IsotopeChecker:\n",
    "    def __init__(self, Malf_indicators, inputs, group_means_df, baseline_df, selected_week, original_constants):\n",
    "        self.Malf_indicators = Malf_indicators\n",
    "        self.inputs = inputs\n",
    "        self.group_means_df = group_means_df\n",
    "        self.baseline_df = baseline_df\n",
    "        self.selected_week = selected_week\n",
    "        self.original_constants = original_constants  # Rename to original_constants\n",
    "        \n",
    "    def process_user_inputs(self):\n",
    "        # Create an empty DataFrame to store the isotopes and their activities\n",
    "        df = pd.DataFrame(columns=['Isotope', 'Activity'])\n",
    "        \n",
    "        # Add each input pair to the DataFrame\n",
    "        for isotope_dropdown, activity_input in self.inputs:\n",
    "            new_row = pd.DataFrame({'Isotope': [isotope_dropdown.value], 'Activity': [activity_input.value]})\n",
    "            df = pd.concat([df, new_row], ignore_index=True)\n",
    "        \n",
    "        return df  # return the df\n",
    "\n",
    "    def check_defect_indicator(self):\n",
    "        df = self.process_user_inputs()\n",
    "        defect_indicator_present = False\n",
    "        defect_isotopes = []\n",
    "        for isotope in df['Isotope']:\n",
    "            if isotope in self.Malf_indicators:\n",
    "                defect_indicator_present = True\n",
    "                defect_isotopes.append(isotope)\n",
    "        \n",
    "        if defect_indicator_present:\n",
    "            print(f'A malfunction indicator has been measured: {defect_isotopes}. Look into this.')\n",
    "        else:\n",
    "            print('No malfunction indicator isotope measured.')\n",
    "            \n",
    "    def check_group_out_of_base(self):\n",
    "        # Check if the week exists in the baseline dataframe\n",
    "        if self.selected_week in self.baseline_df.index:\n",
    "            baseline_row = self.baseline_df.loc[[self.selected_week]]\n",
    "\n",
    "        # Check if Gaseous group mean is out of base\n",
    "        if 'Volatile & Gaseous' in self.group_means_df.columns:  # Check if 'Gaseous' exists\n",
    "            group_mean = self.group_means_df['Volatile & Gaseous'].iloc[0]\n",
    "            baseline_lower_limit = baseline_row['LowerLimit_Volatile & Gaseous'].iloc[0]\n",
    "            baseline_upper_limit = baseline_row['UpperLimit_Volatile & Gaseous'].iloc[0]\n",
    "\n",
    "            if group_mean > baseline_upper_limit:\n",
    "                print(f\"WARNING: The volatile group is {np.round(group_mean,3)} while upper limit is {np.round(baseline_upper_limit,3)}, so it is out of base! Check this.\")\n",
    "        else:\n",
    "            print(\"The 'Volatile' group is not present in the user's isotopes.\")\n",
    "            \n",
    "    def check_ratio_out_of_base(self):\n",
    "        # Extract the original values for Xe-133 and Xe-135\n",
    "        xe_133 = self.original_constants['133Xe'].iloc[0]\n",
    "        xe_135 = self.original_constants['135Xe'].iloc[0]\n",
    "\n",
    "        # Calculate the ratio\n",
    "        if xe_135 != 0:\n",
    "            measured_ratio = xe_133 / xe_135\n",
    "        else:\n",
    "            print(\"Xe-135 value is zero, cannot calculate the ratio.\")\n",
    "            return\n",
    "\n",
    "        # Get the baseline ratio for the selected week\n",
    "        baseline_lower_limit = self.baseline_df['LowerLimit_Xe133_Xe135'].iloc[self.selected_week]\n",
    "        baseline_upper_limit = self.baseline_df['UpperLimit_Xe133_Xe135'].iloc[self.selected_week]\n",
    "\n",
    "        # Check if the measured ratio is out of base\n",
    "        if measured_ratio < baseline_lower_limit or measured_ratio > baseline_upper_limit:\n",
    "            print(f\"ERROR: The measured ratio is {measured_ratio} while the baseline range is [{baseline_lower_limit}, {baseline_upper_limit}], so it is out of base! Check this.\")\n",
    "        else:\n",
    "            print(\"The measured ratio is within the baseline.\")\n"
   ]
  },
  {
   "cell_type": "markdown",
   "id": "6c1073c2",
   "metadata": {},
   "source": [
    "# Class: Comments on false positives\n",
    "\n",
    "The IsotopeCommenter class provides functionality to manage comments for specific isotopes. It allows users to retrieve and display comments associated with particular isotopes, aiding in quick feedback or diagnostic messages when processing isotope data.\n",
    "\n",
    "### Attributes:\n",
    "isotope_comments: A dictionary storing isotope-specific comments. The keys are isotope names (e.g., '231Th') and the values are the corresponding comments.\n",
    "\n",
    "### Methods:\n",
    "__init__(self): Constructor method. Initializes the isotope_comments dictionary with predefined comments.\n",
    "get_comment(self, isotope: str) -> Optional[str]:\n",
    "\n",
    "- Description: Retrieves the comment associated with a given isotope.\n",
    "- Parameters:\n",
    "    -isotope (str): The name of the isotope for which the comment is to be retrieved.\n",
    "- Returns:\n",
    "    - Comment (str) associated with the isotope if present; otherwise, returns None.\n",
    "\n",
    "### print_comments_for_isotopes(self, isotopes: List[str]):\n",
    "- Description: Prints the comments for a list of provided isotopes.\n",
    "- Parameters:\n",
    "    - isotopes (List[str]): A list of isotope names for which comments are to be printed.\n",
    "- Returns:\n",
    "    - None. Directly prints the isotope name followed by its comment to the standard output if a comment is present for the isotope.\n",
    "\n",
    "\n",
    "### Extending the Class:\n",
    "To add, remove, or modify comments for isotopes, users can update the isotope_comments dictionary in the constructor method (__init__). This allows for flexibility in managing feedback or diagnostic messages specific to each isotope.\n"
   ]
  },
  {
   "cell_type": "code",
   "execution_count": 12,
   "id": "19d91931",
   "metadata": {},
   "outputs": [],
   "source": [
    "class IsotopeCommenter:\n",
    "    def __init__(self):\n",
    "        self.isotope_comments = {\n",
    "            '231Th': 'False positive, no alternative has been defined.',\n",
    "            '55Fe': 'False postive, no alternative has been defined.', \n",
    "            '56Ni': 'False positive as neutron capture precursor not naturally occurring. Suspected relation with 123I and 117mSn as subpeak of Xe-135 or Mo-99. ',\n",
    "            '56Co': 'False positive, suspected to be 56Mn.', \n",
    "            '91mY': 'Activity erronous but defect indicator still, no parent daughter relation with 91Sr used to calculate thus too high activity reported.',\n",
    "            '93mNb': 'False positive, no alternative defined.',\n",
    "            '97Nb': 'False positive in normal operation, can be defect indicator but only in combination with precursor 97Zr.',\n",
    "            '106Ru': 'False positive, no alternative defined',\n",
    "            '117mSn': 'False positive. Suspected relation with 123I and 56Ni as subpeak of Xe-135 or Mo-99. ',\n",
    "            '123I': 'False positive. Suspected relation with 117mSn and 56Ni as subpeak of Xe-135 or Mo-99. ',\n",
    "            '124I': 'False positive. Suspected to be 124Sb, a known contaminant.',\n",
    "            '125I': 'False positive. Subpeak of 115Cd marked as 125I. Ignore.',\n",
    "            '125mTe': 'False positive. Subpeak of 115Cd marked as 125I. Ignore.',\n",
    "    \n",
    "            # ... add more isotopes and their comments here if needed\n",
    "        }\n",
    "    \n",
    "    def print_comments_for_isotopes(self, isotopes_to_check):\n",
    "        for isotope, comment in self.isotope_comments.items():\n",
    "            if isotope in isotopes_to_check:\n",
    "                print(f\"Warning for {isotope}: {comment}\")\n"
   ]
  },
  {
   "cell_type": "code",
   "execution_count": null,
   "id": "88d747eb",
   "metadata": {},
   "outputs": [],
   "source": []
  }
 ],
 "metadata": {
  "kernelspec": {
   "display_name": "Python 3 (ipykernel)",
   "language": "python",
   "name": "python3"
  },
  "language_info": {
   "codemirror_mode": {
    "name": "ipython",
    "version": 3
   },
   "file_extension": ".py",
   "mimetype": "text/x-python",
   "name": "python",
   "nbconvert_exporter": "python",
   "pygments_lexer": "ipython3",
   "version": "3.9.13"
  }
 },
 "nbformat": 4,
 "nbformat_minor": 5
}
